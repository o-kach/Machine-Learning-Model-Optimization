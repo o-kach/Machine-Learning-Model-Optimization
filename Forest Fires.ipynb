{
 "cells": [
  {
   "cell_type": "markdown",
   "metadata": {},
   "source": [
    "# Forest Fire Prediction"
   ]
  },
  {
   "cell_type": "markdown",
   "metadata": {},
   "source": [
    "## A project with an aim to optimize machine learning models in python"
   ]
  },
  {
   "cell_type": "markdown",
   "metadata": {},
   "source": [
    "We will use a slightly modified dataset taken from [here](https://archive.ics.uci.edu/ml/datasets/Forest+Fires)"
   ]
  },
  {
   "cell_type": "markdown",
   "metadata": {},
   "source": [
    "### Exploring The Data"
   ]
  },
  {
   "cell_type": "code",
   "execution_count": 1,
   "metadata": {},
   "outputs": [],
   "source": [
    "import pandas as pd\n",
    "import numpy as np\n",
    "from sklearn.linear_model import LinearRegression\n",
    "import matplotlib.pyplot as plt\n",
    "from sklearn.metrics import mean_squared_error"
   ]
  },
  {
   "cell_type": "code",
   "execution_count": 2,
   "metadata": {},
   "outputs": [],
   "source": [
    "fires = pd.read_csv('fires.csv')"
   ]
  },
  {
   "cell_type": "code",
   "execution_count": 3,
   "metadata": {},
   "outputs": [
    {
     "name": "stdout",
     "output_type": "stream",
     "text": [
      "<class 'pandas.core.frame.DataFrame'>\n",
      "RangeIndex: 517 entries, 0 to 516\n",
      "Data columns (total 14 columns):\n",
      " #   Column      Non-Null Count  Dtype  \n",
      "---  ------      --------------  -----  \n",
      " 0   Unnamed: 0  517 non-null    int64  \n",
      " 1   X           517 non-null    int64  \n",
      " 2   Y           517 non-null    int64  \n",
      " 3   month       517 non-null    object \n",
      " 4   day         517 non-null    object \n",
      " 5   FFMC        469 non-null    float64\n",
      " 6   DMC         496 non-null    float64\n",
      " 7   DC          474 non-null    float64\n",
      " 8   ISI         515 non-null    float64\n",
      " 9   temp        496 non-null    float64\n",
      " 10  RH          487 non-null    float64\n",
      " 11  wind        482 non-null    float64\n",
      " 12  rain        485 non-null    float64\n",
      " 13  area        517 non-null    float64\n",
      "dtypes: float64(9), int64(3), object(2)\n",
      "memory usage: 56.7+ KB\n"
     ]
    }
   ],
   "source": [
    "fires.info()"
   ]
  },
  {
   "cell_type": "code",
   "execution_count": 4,
   "metadata": {},
   "outputs": [
    {
     "data": {
      "text/html": [
       "<div>\n",
       "<style scoped>\n",
       "    .dataframe tbody tr th:only-of-type {\n",
       "        vertical-align: middle;\n",
       "    }\n",
       "\n",
       "    .dataframe tbody tr th {\n",
       "        vertical-align: top;\n",
       "    }\n",
       "\n",
       "    .dataframe thead th {\n",
       "        text-align: right;\n",
       "    }\n",
       "</style>\n",
       "<table border=\"1\" class=\"dataframe\">\n",
       "  <thead>\n",
       "    <tr style=\"text-align: right;\">\n",
       "      <th></th>\n",
       "      <th>Unnamed: 0</th>\n",
       "      <th>X</th>\n",
       "      <th>Y</th>\n",
       "      <th>month</th>\n",
       "      <th>day</th>\n",
       "      <th>FFMC</th>\n",
       "      <th>DMC</th>\n",
       "      <th>DC</th>\n",
       "      <th>ISI</th>\n",
       "      <th>temp</th>\n",
       "      <th>RH</th>\n",
       "      <th>wind</th>\n",
       "      <th>rain</th>\n",
       "      <th>area</th>\n",
       "    </tr>\n",
       "  </thead>\n",
       "  <tbody>\n",
       "    <tr>\n",
       "      <th>0</th>\n",
       "      <td>1</td>\n",
       "      <td>7</td>\n",
       "      <td>5</td>\n",
       "      <td>mar</td>\n",
       "      <td>fri</td>\n",
       "      <td>86.2</td>\n",
       "      <td>26.2</td>\n",
       "      <td>94.3</td>\n",
       "      <td>5.1</td>\n",
       "      <td>NaN</td>\n",
       "      <td>51.0</td>\n",
       "      <td>6.7</td>\n",
       "      <td>0.0</td>\n",
       "      <td>0.0</td>\n",
       "    </tr>\n",
       "    <tr>\n",
       "      <th>1</th>\n",
       "      <td>2</td>\n",
       "      <td>7</td>\n",
       "      <td>4</td>\n",
       "      <td>oct</td>\n",
       "      <td>tue</td>\n",
       "      <td>90.6</td>\n",
       "      <td>NaN</td>\n",
       "      <td>669.1</td>\n",
       "      <td>6.7</td>\n",
       "      <td>18.0</td>\n",
       "      <td>33.0</td>\n",
       "      <td>0.9</td>\n",
       "      <td>0.0</td>\n",
       "      <td>0.0</td>\n",
       "    </tr>\n",
       "    <tr>\n",
       "      <th>2</th>\n",
       "      <td>3</td>\n",
       "      <td>7</td>\n",
       "      <td>4</td>\n",
       "      <td>oct</td>\n",
       "      <td>sat</td>\n",
       "      <td>90.6</td>\n",
       "      <td>43.7</td>\n",
       "      <td>NaN</td>\n",
       "      <td>6.7</td>\n",
       "      <td>14.6</td>\n",
       "      <td>33.0</td>\n",
       "      <td>1.3</td>\n",
       "      <td>0.0</td>\n",
       "      <td>0.0</td>\n",
       "    </tr>\n",
       "    <tr>\n",
       "      <th>3</th>\n",
       "      <td>4</td>\n",
       "      <td>8</td>\n",
       "      <td>6</td>\n",
       "      <td>mar</td>\n",
       "      <td>fri</td>\n",
       "      <td>91.7</td>\n",
       "      <td>33.3</td>\n",
       "      <td>77.5</td>\n",
       "      <td>9.0</td>\n",
       "      <td>8.3</td>\n",
       "      <td>97.0</td>\n",
       "      <td>4.0</td>\n",
       "      <td>0.2</td>\n",
       "      <td>0.0</td>\n",
       "    </tr>\n",
       "    <tr>\n",
       "      <th>4</th>\n",
       "      <td>5</td>\n",
       "      <td>8</td>\n",
       "      <td>6</td>\n",
       "      <td>mar</td>\n",
       "      <td>sun</td>\n",
       "      <td>89.3</td>\n",
       "      <td>51.3</td>\n",
       "      <td>102.2</td>\n",
       "      <td>9.6</td>\n",
       "      <td>11.4</td>\n",
       "      <td>99.0</td>\n",
       "      <td>NaN</td>\n",
       "      <td>0.0</td>\n",
       "      <td>0.0</td>\n",
       "    </tr>\n",
       "  </tbody>\n",
       "</table>\n",
       "</div>"
      ],
      "text/plain": [
       "   Unnamed: 0  X  Y month  day  FFMC   DMC     DC  ISI  temp    RH  wind  \\\n",
       "0           1  7  5   mar  fri  86.2  26.2   94.3  5.1   NaN  51.0   6.7   \n",
       "1           2  7  4   oct  tue  90.6   NaN  669.1  6.7  18.0  33.0   0.9   \n",
       "2           3  7  4   oct  sat  90.6  43.7    NaN  6.7  14.6  33.0   1.3   \n",
       "3           4  8  6   mar  fri  91.7  33.3   77.5  9.0   8.3  97.0   4.0   \n",
       "4           5  8  6   mar  sun  89.3  51.3  102.2  9.6  11.4  99.0   NaN   \n",
       "\n",
       "   rain  area  \n",
       "0   0.0   0.0  \n",
       "1   0.0   0.0  \n",
       "2   0.0   0.0  \n",
       "3   0.2   0.0  \n",
       "4   0.0   0.0  "
      ]
     },
     "execution_count": 4,
     "metadata": {},
     "output_type": "execute_result"
    }
   ],
   "source": [
    "fires.head()"
   ]
  },
  {
   "cell_type": "markdown",
   "metadata": {},
   "source": [
    "### Reference Model"
   ]
  },
  {
   "cell_type": "markdown",
   "metadata": {},
   "source": [
    "The reference model will only use temp and wind as features. The outcome of interest is the area column, which represents the total area damaged by the fire."
   ]
  },
  {
   "cell_type": "code",
   "execution_count": 5,
   "metadata": {},
   "outputs": [],
   "source": [
    "reference_fires = fires[[\"wind\", \"temp\", \"area\"]].dropna()\n",
    "reference_X = reference_fires[[\"wind\", \"temp\"]]\n",
    "reference_y = reference_fires[[\"area\"]]\n",
    "reference = LinearRegression()"
   ]
  },
  {
   "cell_type": "markdown",
   "metadata": {},
   "source": [
    "### Data Processing"
   ]
  },
  {
   "cell_type": "markdown",
   "metadata": {},
   "source": [
    "We will perform log-transformation of the \"area\" column."
   ]
  },
  {
   "cell_type": "code",
   "execution_count": 6,
   "metadata": {},
   "outputs": [
    {
     "data": {
      "text/plain": [
       "<Axes: >"
      ]
     },
     "execution_count": 6,
     "metadata": {},
     "output_type": "execute_result"
    },
    {
     "data": {
      "image/png": "[encoded data removed]",
      "text/plain": [
       "<Figure size 640x480 with 1 Axes>"
      ]
     },
     "metadata": {},
     "output_type": "display_data"
    }
   ],
   "source": [
    "fires['area'].hist(bins=50)"
   ]
  },
  {
   "cell_type": "code",
   "execution_count": 7,
   "metadata": {},
   "outputs": [],
   "source": [
    "fires['log_area'] = np.log(fires['area']+1)"
   ]
  },
  {
   "cell_type": "code",
   "execution_count": 8,
   "metadata": {},
   "outputs": [
    {
     "data": {
      "text/plain": [
       "<Axes: >"
      ]
     },
     "execution_count": 8,
     "metadata": {},
     "output_type": "execute_result"
    },
    {
     "data": {
      "image/png": "[encoded data removed]",
      "text/plain": [
       "<Figure size 640x480 with 1 Axes>"
      ]
     },
     "metadata": {},
     "output_type": "display_data"
    }
   ],
   "source": [
    "fires['log_area'].hist(bins=50)"
   ]
  },
  {
   "cell_type": "markdown",
   "metadata": {},
   "source": [
    "We will change the column \"month\" for category column \"summer\""
   ]
  },
  {
   "cell_type": "code",
   "execution_count": 9,
   "metadata": {},
   "outputs": [
    {
     "data": {
      "text/html": [
       "<div>\n",
       "<style scoped>\n",
       "    .dataframe tbody tr th:only-of-type {\n",
       "        vertical-align: middle;\n",
       "    }\n",
       "\n",
       "    .dataframe tbody tr th {\n",
       "        vertical-align: top;\n",
       "    }\n",
       "\n",
       "    .dataframe thead th {\n",
       "        text-align: right;\n",
       "    }\n",
       "</style>\n",
       "<table border=\"1\" class=\"dataframe\">\n",
       "  <thead>\n",
       "    <tr style=\"text-align: right;\">\n",
       "      <th></th>\n",
       "      <th>Unnamed: 0</th>\n",
       "      <th>X</th>\n",
       "      <th>Y</th>\n",
       "      <th>month</th>\n",
       "      <th>day</th>\n",
       "      <th>FFMC</th>\n",
       "      <th>DMC</th>\n",
       "      <th>DC</th>\n",
       "      <th>ISI</th>\n",
       "      <th>temp</th>\n",
       "      <th>RH</th>\n",
       "      <th>wind</th>\n",
       "      <th>rain</th>\n",
       "      <th>area</th>\n",
       "      <th>log_area</th>\n",
       "      <th>summer</th>\n",
       "    </tr>\n",
       "  </thead>\n",
       "  <tbody>\n",
       "    <tr>\n",
       "      <th>0</th>\n",
       "      <td>1</td>\n",
       "      <td>7</td>\n",
       "      <td>5</td>\n",
       "      <td>mar</td>\n",
       "      <td>fri</td>\n",
       "      <td>86.2</td>\n",
       "      <td>26.2</td>\n",
       "      <td>94.3</td>\n",
       "      <td>5.1</td>\n",
       "      <td>NaN</td>\n",
       "      <td>51.0</td>\n",
       "      <td>6.7</td>\n",
       "      <td>0.0</td>\n",
       "      <td>0.0</td>\n",
       "      <td>0.0</td>\n",
       "      <td>0</td>\n",
       "    </tr>\n",
       "    <tr>\n",
       "      <th>1</th>\n",
       "      <td>2</td>\n",
       "      <td>7</td>\n",
       "      <td>4</td>\n",
       "      <td>oct</td>\n",
       "      <td>tue</td>\n",
       "      <td>90.6</td>\n",
       "      <td>NaN</td>\n",
       "      <td>669.1</td>\n",
       "      <td>6.7</td>\n",
       "      <td>18.0</td>\n",
       "      <td>33.0</td>\n",
       "      <td>0.9</td>\n",
       "      <td>0.0</td>\n",
       "      <td>0.0</td>\n",
       "      <td>0.0</td>\n",
       "      <td>0</td>\n",
       "    </tr>\n",
       "    <tr>\n",
       "      <th>2</th>\n",
       "      <td>3</td>\n",
       "      <td>7</td>\n",
       "      <td>4</td>\n",
       "      <td>oct</td>\n",
       "      <td>sat</td>\n",
       "      <td>90.6</td>\n",
       "      <td>43.7</td>\n",
       "      <td>NaN</td>\n",
       "      <td>6.7</td>\n",
       "      <td>14.6</td>\n",
       "      <td>33.0</td>\n",
       "      <td>1.3</td>\n",
       "      <td>0.0</td>\n",
       "      <td>0.0</td>\n",
       "      <td>0.0</td>\n",
       "      <td>0</td>\n",
       "    </tr>\n",
       "    <tr>\n",
       "      <th>3</th>\n",
       "      <td>4</td>\n",
       "      <td>8</td>\n",
       "      <td>6</td>\n",
       "      <td>mar</td>\n",
       "      <td>fri</td>\n",
       "      <td>91.7</td>\n",
       "      <td>33.3</td>\n",
       "      <td>77.5</td>\n",
       "      <td>9.0</td>\n",
       "      <td>8.3</td>\n",
       "      <td>97.0</td>\n",
       "      <td>4.0</td>\n",
       "      <td>0.2</td>\n",
       "      <td>0.0</td>\n",
       "      <td>0.0</td>\n",
       "      <td>0</td>\n",
       "    </tr>\n",
       "    <tr>\n",
       "      <th>4</th>\n",
       "      <td>5</td>\n",
       "      <td>8</td>\n",
       "      <td>6</td>\n",
       "      <td>mar</td>\n",
       "      <td>sun</td>\n",
       "      <td>89.3</td>\n",
       "      <td>51.3</td>\n",
       "      <td>102.2</td>\n",
       "      <td>9.6</td>\n",
       "      <td>11.4</td>\n",
       "      <td>99.0</td>\n",
       "      <td>NaN</td>\n",
       "      <td>0.0</td>\n",
       "      <td>0.0</td>\n",
       "      <td>0.0</td>\n",
       "      <td>0</td>\n",
       "    </tr>\n",
       "  </tbody>\n",
       "</table>\n",
       "</div>"
      ],
      "text/plain": [
       "   Unnamed: 0  X  Y month  day  FFMC   DMC     DC  ISI  temp    RH  wind  \\\n",
       "0           1  7  5   mar  fri  86.2  26.2   94.3  5.1   NaN  51.0   6.7   \n",
       "1           2  7  4   oct  tue  90.6   NaN  669.1  6.7  18.0  33.0   0.9   \n",
       "2           3  7  4   oct  sat  90.6  43.7    NaN  6.7  14.6  33.0   1.3   \n",
       "3           4  8  6   mar  fri  91.7  33.3   77.5  9.0   8.3  97.0   4.0   \n",
       "4           5  8  6   mar  sun  89.3  51.3  102.2  9.6  11.4  99.0   NaN   \n",
       "\n",
       "   rain  area  log_area  summer  \n",
       "0   0.0   0.0       0.0       0  \n",
       "1   0.0   0.0       0.0       0  \n",
       "2   0.0   0.0       0.0       0  \n",
       "3   0.2   0.0       0.0       0  \n",
       "4   0.0   0.0       0.0       0  "
      ]
     },
     "execution_count": 9,
     "metadata": {},
     "output_type": "execute_result"
    }
   ],
   "source": [
    "summer_months = ['jun', 'jul', 'aug']\n",
    "fires['summer'] = fires['month'].apply(lambda x: 1 if x in summer_months else 0)\n",
    "fires.head()"
   ]
  },
  {
   "cell_type": "markdown",
   "metadata": {},
   "source": [
    "Let´s convert day of the week into dummy variable"
   ]
  },
  {
   "cell_type": "code",
   "execution_count": 10,
   "metadata": {},
   "outputs": [
    {
     "data": {
      "text/html": [
       "<div>\n",
       "<style scoped>\n",
       "    .dataframe tbody tr th:only-of-type {\n",
       "        vertical-align: middle;\n",
       "    }\n",
       "\n",
       "    .dataframe tbody tr th {\n",
       "        vertical-align: top;\n",
       "    }\n",
       "\n",
       "    .dataframe thead th {\n",
       "        text-align: right;\n",
       "    }\n",
       "</style>\n",
       "<table border=\"1\" class=\"dataframe\">\n",
       "  <thead>\n",
       "    <tr style=\"text-align: right;\">\n",
       "      <th></th>\n",
       "      <th>mon</th>\n",
       "      <th>sat</th>\n",
       "      <th>sun</th>\n",
       "      <th>thu</th>\n",
       "      <th>tue</th>\n",
       "      <th>wed</th>\n",
       "    </tr>\n",
       "  </thead>\n",
       "  <tbody>\n",
       "    <tr>\n",
       "      <th>0</th>\n",
       "      <td>0</td>\n",
       "      <td>0</td>\n",
       "      <td>0</td>\n",
       "      <td>0</td>\n",
       "      <td>0</td>\n",
       "      <td>0</td>\n",
       "    </tr>\n",
       "    <tr>\n",
       "      <th>1</th>\n",
       "      <td>0</td>\n",
       "      <td>0</td>\n",
       "      <td>0</td>\n",
       "      <td>0</td>\n",
       "      <td>1</td>\n",
       "      <td>0</td>\n",
       "    </tr>\n",
       "    <tr>\n",
       "      <th>2</th>\n",
       "      <td>0</td>\n",
       "      <td>1</td>\n",
       "      <td>0</td>\n",
       "      <td>0</td>\n",
       "      <td>0</td>\n",
       "      <td>0</td>\n",
       "    </tr>\n",
       "    <tr>\n",
       "      <th>3</th>\n",
       "      <td>0</td>\n",
       "      <td>0</td>\n",
       "      <td>0</td>\n",
       "      <td>0</td>\n",
       "      <td>0</td>\n",
       "      <td>0</td>\n",
       "    </tr>\n",
       "    <tr>\n",
       "      <th>4</th>\n",
       "      <td>0</td>\n",
       "      <td>0</td>\n",
       "      <td>1</td>\n",
       "      <td>0</td>\n",
       "      <td>0</td>\n",
       "      <td>0</td>\n",
       "    </tr>\n",
       "    <tr>\n",
       "      <th>...</th>\n",
       "      <td>...</td>\n",
       "      <td>...</td>\n",
       "      <td>...</td>\n",
       "      <td>...</td>\n",
       "      <td>...</td>\n",
       "      <td>...</td>\n",
       "    </tr>\n",
       "    <tr>\n",
       "      <th>512</th>\n",
       "      <td>0</td>\n",
       "      <td>0</td>\n",
       "      <td>1</td>\n",
       "      <td>0</td>\n",
       "      <td>0</td>\n",
       "      <td>0</td>\n",
       "    </tr>\n",
       "    <tr>\n",
       "      <th>513</th>\n",
       "      <td>0</td>\n",
       "      <td>0</td>\n",
       "      <td>1</td>\n",
       "      <td>0</td>\n",
       "      <td>0</td>\n",
       "      <td>0</td>\n",
       "    </tr>\n",
       "    <tr>\n",
       "      <th>514</th>\n",
       "      <td>0</td>\n",
       "      <td>0</td>\n",
       "      <td>1</td>\n",
       "      <td>0</td>\n",
       "      <td>0</td>\n",
       "      <td>0</td>\n",
       "    </tr>\n",
       "    <tr>\n",
       "      <th>515</th>\n",
       "      <td>0</td>\n",
       "      <td>1</td>\n",
       "      <td>0</td>\n",
       "      <td>0</td>\n",
       "      <td>0</td>\n",
       "      <td>0</td>\n",
       "    </tr>\n",
       "    <tr>\n",
       "      <th>516</th>\n",
       "      <td>0</td>\n",
       "      <td>0</td>\n",
       "      <td>0</td>\n",
       "      <td>0</td>\n",
       "      <td>1</td>\n",
       "      <td>0</td>\n",
       "    </tr>\n",
       "  </tbody>\n",
       "</table>\n",
       "<p>517 rows × 6 columns</p>\n",
       "</div>"
      ],
      "text/plain": [
       "     mon  sat  sun  thu  tue  wed\n",
       "0      0    0    0    0    0    0\n",
       "1      0    0    0    0    1    0\n",
       "2      0    1    0    0    0    0\n",
       "3      0    0    0    0    0    0\n",
       "4      0    0    1    0    0    0\n",
       "..   ...  ...  ...  ...  ...  ...\n",
       "512    0    0    1    0    0    0\n",
       "513    0    0    1    0    0    0\n",
       "514    0    0    1    0    0    0\n",
       "515    0    1    0    0    0    0\n",
       "516    0    0    0    0    1    0\n",
       "\n",
       "[517 rows x 6 columns]"
      ]
     },
     "execution_count": 10,
     "metadata": {},
     "output_type": "execute_result"
    }
   ],
   "source": [
    "days = pd.get_dummies(fires['day'], drop_first=True)\n",
    "days"
   ]
  },
  {
   "cell_type": "markdown",
   "metadata": {},
   "source": [
    "We will impute missing features with the help of K-nearest neighbors imputation."
   ]
  },
  {
   "cell_type": "code",
   "execution_count": 11,
   "metadata": {},
   "outputs": [
    {
     "name": "stdout",
     "output_type": "stream",
     "text": [
      "<class 'pandas.core.frame.DataFrame'>\n",
      "RangeIndex: 517 entries, 0 to 516\n",
      "Data columns (total 8 columns):\n",
      " #   Column  Non-Null Count  Dtype  \n",
      "---  ------  --------------  -----  \n",
      " 0   FFMC    517 non-null    float64\n",
      " 1   DMC     517 non-null    float64\n",
      " 2   DC      517 non-null    float64\n",
      " 3   ISI     517 non-null    float64\n",
      " 4   temp    517 non-null    float64\n",
      " 5   RH      517 non-null    float64\n",
      " 6   wind    517 non-null    float64\n",
      " 7   rain    517 non-null    float64\n",
      "dtypes: float64(8)\n",
      "memory usage: 32.4 KB\n"
     ]
    }
   ],
   "source": [
    "from sklearn.impute import KNNImputer\n",
    "\n",
    "imp = KNNImputer(missing_values = np.nan, n_neighbors=3)\n",
    "fires_missing = fires[fires.columns[5:13]] # FFMC to rain\n",
    "imputed = pd.DataFrame(imp.fit_transform(fires_missing), \n",
    "                       columns = fires.columns[5:13])\n",
    "imputed.info()"
   ]
  },
  {
   "cell_type": "markdown",
   "metadata": {},
   "source": [
    "Let´s examine outliers"
   ]
  },
  {
   "cell_type": "code",
   "execution_count": 12,
   "metadata": {},
   "outputs": [
    {
     "data": {
      "text/plain": [
       "<Axes: >"
      ]
     },
     "execution_count": 12,
     "metadata": {},
     "output_type": "execute_result"
    },
    {
     "data": {
      "image/png": "[encoded data removed]",
      "text/plain": [
       "<Figure size 640x480 with 1 Axes>"
      ]
     },
     "metadata": {},
     "output_type": "display_data"
    }
   ],
   "source": [
    "imputed.boxplot(column=list(imputed.columns))"
   ]
  },
  {
   "cell_type": "markdown",
   "metadata": {},
   "source": [
    "Let's examine the number of outliers in each of the columns."
   ]
  },
  {
   "cell_type": "code",
   "execution_count": 13,
   "metadata": {},
   "outputs": [
    {
     "name": "stdout",
     "output_type": "stream",
     "text": [
      "Number of outliers in the FFMC is 53\n",
      "Number of outliers in the DMC is 22\n",
      "Number of outliers in the DC is 25\n",
      "Number of outliers in the ISI is 23\n",
      "Number of outliers in the temp is 9\n",
      "Number of outliers in the RH is 10\n",
      "Number of outliers in the wind is 13\n",
      "Number of outliers in the rain is 8\n"
     ]
    }
   ],
   "source": [
    "for col in imputed:\n",
    "    quartiles = np.percentile(imputed[col], [25,50,75])\n",
    "    iqr = quartiles[2] - quartiles[0]\n",
    "    lower_bound = quartiles[0] - (1.5 * iqr)\n",
    "    upper_bound = quartiles[2] + (1.5 * iqr)\n",
    "    num_outliers = sum((imputed[col] < lower_bound) | (imputed[col] > upper_bound))\n",
    "    print(f\"Number of outliers in the {col} is {num_outliers}\")\n",
    "    "
   ]
  },
  {
   "cell_type": "markdown",
   "metadata": {},
   "source": [
    "We will leave outliers"
   ]
  },
  {
   "cell_type": "markdown",
   "metadata": {},
   "source": [
    "Now we´ll standardize the dataset"
   ]
  },
  {
   "cell_type": "code",
   "execution_count": 14,
   "metadata": {},
   "outputs": [
    {
     "data": {
      "text/html": [
       "<div>\n",
       "<style scoped>\n",
       "    .dataframe tbody tr th:only-of-type {\n",
       "        vertical-align: middle;\n",
       "    }\n",
       "\n",
       "    .dataframe tbody tr th {\n",
       "        vertical-align: top;\n",
       "    }\n",
       "\n",
       "    .dataframe thead th {\n",
       "        text-align: right;\n",
       "    }\n",
       "</style>\n",
       "<table border=\"1\" class=\"dataframe\">\n",
       "  <thead>\n",
       "    <tr style=\"text-align: right;\">\n",
       "      <th></th>\n",
       "      <th>summer</th>\n",
       "      <th>FFMC</th>\n",
       "      <th>DMC</th>\n",
       "      <th>DC</th>\n",
       "      <th>ISI</th>\n",
       "      <th>temp</th>\n",
       "      <th>RH</th>\n",
       "      <th>wind</th>\n",
       "      <th>rain</th>\n",
       "      <th>mon</th>\n",
       "      <th>sat</th>\n",
       "      <th>sun</th>\n",
       "      <th>thu</th>\n",
       "      <th>tue</th>\n",
       "      <th>wed</th>\n",
       "    </tr>\n",
       "  </thead>\n",
       "  <tbody>\n",
       "    <tr>\n",
       "      <th>0</th>\n",
       "      <td>0</td>\n",
       "      <td>-0.812283</td>\n",
       "      <td>-1.335942</td>\n",
       "      <td>-1.846711</td>\n",
       "      <td>-0.860187</td>\n",
       "      <td>-0.398187</td>\n",
       "      <td>0.418726</td>\n",
       "      <td>1.514159</td>\n",
       "      <td>-0.073268</td>\n",
       "      <td>0</td>\n",
       "      <td>0</td>\n",
       "      <td>0</td>\n",
       "      <td>0</td>\n",
       "      <td>0</td>\n",
       "      <td>0</td>\n",
       "    </tr>\n",
       "    <tr>\n",
       "      <th>1</th>\n",
       "      <td>0</td>\n",
       "      <td>-0.010735</td>\n",
       "      <td>-0.859009</td>\n",
       "      <td>0.509582</td>\n",
       "      <td>-0.508736</td>\n",
       "      <td>-0.155493</td>\n",
       "      <td>-0.715565</td>\n",
       "      <td>-1.761003</td>\n",
       "      <td>-0.073268</td>\n",
       "      <td>0</td>\n",
       "      <td>0</td>\n",
       "      <td>0</td>\n",
       "      <td>0</td>\n",
       "      <td>1</td>\n",
       "      <td>0</td>\n",
       "    </tr>\n",
       "    <tr>\n",
       "      <th>2</th>\n",
       "      <td>0</td>\n",
       "      <td>-0.010735</td>\n",
       "      <td>-1.059878</td>\n",
       "      <td>-0.303178</td>\n",
       "      <td>-0.508736</td>\n",
       "      <td>-0.744894</td>\n",
       "      <td>-0.715565</td>\n",
       "      <td>-1.535130</td>\n",
       "      <td>-0.073268</td>\n",
       "      <td>0</td>\n",
       "      <td>1</td>\n",
       "      <td>0</td>\n",
       "      <td>0</td>\n",
       "      <td>0</td>\n",
       "      <td>0</td>\n",
       "    </tr>\n",
       "    <tr>\n",
       "      <th>3</th>\n",
       "      <td>0</td>\n",
       "      <td>0.189652</td>\n",
       "      <td>-1.223939</td>\n",
       "      <td>-1.915580</td>\n",
       "      <td>-0.003526</td>\n",
       "      <td>-1.837021</td>\n",
       "      <td>3.317471</td>\n",
       "      <td>-0.010485</td>\n",
       "      <td>0.603155</td>\n",
       "      <td>0</td>\n",
       "      <td>0</td>\n",
       "      <td>0</td>\n",
       "      <td>0</td>\n",
       "      <td>0</td>\n",
       "      <td>0</td>\n",
       "    </tr>\n",
       "    <tr>\n",
       "      <th>4</th>\n",
       "      <td>0</td>\n",
       "      <td>-0.247556</td>\n",
       "      <td>-0.939988</td>\n",
       "      <td>-1.814327</td>\n",
       "      <td>0.128267</td>\n",
       "      <td>-1.299625</td>\n",
       "      <td>3.443503</td>\n",
       "      <td>0.177742</td>\n",
       "      <td>-0.073268</td>\n",
       "      <td>0</td>\n",
       "      <td>0</td>\n",
       "      <td>1</td>\n",
       "      <td>0</td>\n",
       "      <td>0</td>\n",
       "      <td>0</td>\n",
       "    </tr>\n",
       "  </tbody>\n",
       "</table>\n",
       "</div>"
      ],
      "text/plain": [
       "   summer      FFMC       DMC        DC       ISI      temp        RH  \\\n",
       "0       0 -0.812283 -1.335942 -1.846711 -0.860187 -0.398187  0.418726   \n",
       "1       0 -0.010735 -0.859009  0.509582 -0.508736 -0.155493 -0.715565   \n",
       "2       0 -0.010735 -1.059878 -0.303178 -0.508736 -0.744894 -0.715565   \n",
       "3       0  0.189652 -1.223939 -1.915580 -0.003526 -1.837021  3.317471   \n",
       "4       0 -0.247556 -0.939988 -1.814327  0.128267 -1.299625  3.443503   \n",
       "\n",
       "       wind      rain  mon  sat  sun  thu  tue  wed  \n",
       "0  1.514159 -0.073268    0    0    0    0    0    0  \n",
       "1 -1.761003 -0.073268    0    0    0    0    1    0  \n",
       "2 -1.535130 -0.073268    0    1    0    0    0    0  \n",
       "3 -0.010485  0.603155    0    0    0    0    0    0  \n",
       "4  0.177742 -0.073268    0    0    1    0    0    0  "
      ]
     },
     "execution_count": 14,
     "metadata": {},
     "output_type": "execute_result"
    }
   ],
   "source": [
    "from sklearn.preprocessing import StandardScaler\n",
    "\n",
    "scaler = StandardScaler()\n",
    "scaled = scaler.fit_transform(imputed)\n",
    "scaled = pd.DataFrame(scaled, columns=fires.columns[5:13])\n",
    "\n",
    "final = pd.concat([fires['summer'], scaled, days], axis=1)\n",
    "final.head()"
   ]
  },
  {
   "cell_type": "markdown",
   "metadata": {},
   "source": [
    "### Subset Selection"
   ]
  },
  {
   "cell_type": "code",
   "execution_count": 15,
   "metadata": {},
   "outputs": [
    {
     "data": {
      "text/html": [
       "<div>\n",
       "<style scoped>\n",
       "    .dataframe tbody tr th:only-of-type {\n",
       "        vertical-align: middle;\n",
       "    }\n",
       "\n",
       "    .dataframe tbody tr th {\n",
       "        vertical-align: top;\n",
       "    }\n",
       "\n",
       "    .dataframe thead th {\n",
       "        text-align: right;\n",
       "    }\n",
       "</style>\n",
       "<table border=\"1\" class=\"dataframe\">\n",
       "  <thead>\n",
       "    <tr style=\"text-align: right;\">\n",
       "      <th></th>\n",
       "      <th>summer</th>\n",
       "      <th>FFMC</th>\n",
       "      <th>DMC</th>\n",
       "      <th>DC</th>\n",
       "      <th>ISI</th>\n",
       "      <th>temp</th>\n",
       "      <th>RH</th>\n",
       "      <th>wind</th>\n",
       "      <th>rain</th>\n",
       "      <th>mon</th>\n",
       "      <th>sat</th>\n",
       "      <th>sun</th>\n",
       "      <th>thu</th>\n",
       "      <th>tue</th>\n",
       "      <th>wed</th>\n",
       "      <th>log_area</th>\n",
       "    </tr>\n",
       "  </thead>\n",
       "  <tbody>\n",
       "    <tr>\n",
       "      <th>summer</th>\n",
       "      <td>1.000000</td>\n",
       "      <td>0.214177</td>\n",
       "      <td>0.457106</td>\n",
       "      <td>0.159856</td>\n",
       "      <td>0.370985</td>\n",
       "      <td>0.419641</td>\n",
       "      <td>0.076650</td>\n",
       "      <td>0.019259</td>\n",
       "      <td>0.078261</td>\n",
       "      <td>0.125990</td>\n",
       "      <td>0.012047</td>\n",
       "      <td>0.062090</td>\n",
       "      <td>0.042282</td>\n",
       "      <td>0.060867</td>\n",
       "      <td>0.084696</td>\n",
       "      <td>0.048816</td>\n",
       "    </tr>\n",
       "    <tr>\n",
       "      <th>FFMC</th>\n",
       "      <td>0.214177</td>\n",
       "      <td>1.000000</td>\n",
       "      <td>0.377944</td>\n",
       "      <td>0.343971</td>\n",
       "      <td>0.527148</td>\n",
       "      <td>0.427011</td>\n",
       "      <td>0.305826</td>\n",
       "      <td>0.015168</td>\n",
       "      <td>0.056774</td>\n",
       "      <td>0.056237</td>\n",
       "      <td>0.019375</td>\n",
       "      <td>0.089677</td>\n",
       "      <td>0.069656</td>\n",
       "      <td>0.010301</td>\n",
       "      <td>0.094608</td>\n",
       "      <td>0.046767</td>\n",
       "    </tr>\n",
       "    <tr>\n",
       "      <th>DMC</th>\n",
       "      <td>0.457106</td>\n",
       "      <td>0.377944</td>\n",
       "      <td>1.000000</td>\n",
       "      <td>0.675980</td>\n",
       "      <td>0.304136</td>\n",
       "      <td>0.467701</td>\n",
       "      <td>0.085073</td>\n",
       "      <td>0.100278</td>\n",
       "      <td>0.075473</td>\n",
       "      <td>0.117232</td>\n",
       "      <td>0.002377</td>\n",
       "      <td>0.028175</td>\n",
       "      <td>0.090051</td>\n",
       "      <td>0.001951</td>\n",
       "      <td>0.018827</td>\n",
       "      <td>0.062982</td>\n",
       "    </tr>\n",
       "    <tr>\n",
       "      <th>DC</th>\n",
       "      <td>0.159856</td>\n",
       "      <td>0.343971</td>\n",
       "      <td>0.675980</td>\n",
       "      <td>1.000000</td>\n",
       "      <td>0.236874</td>\n",
       "      <td>0.500623</td>\n",
       "      <td>0.047074</td>\n",
       "      <td>0.199064</td>\n",
       "      <td>0.037378</td>\n",
       "      <td>0.055911</td>\n",
       "      <td>0.044676</td>\n",
       "      <td>0.011418</td>\n",
       "      <td>0.048853</td>\n",
       "      <td>0.027314</td>\n",
       "      <td>0.027794</td>\n",
       "      <td>0.064287</td>\n",
       "    </tr>\n",
       "    <tr>\n",
       "      <th>ISI</th>\n",
       "      <td>0.370985</td>\n",
       "      <td>0.527148</td>\n",
       "      <td>0.304136</td>\n",
       "      <td>0.236874</td>\n",
       "      <td>1.000000</td>\n",
       "      <td>0.392255</td>\n",
       "      <td>0.131033</td>\n",
       "      <td>0.107663</td>\n",
       "      <td>0.067796</td>\n",
       "      <td>0.158184</td>\n",
       "      <td>0.038064</td>\n",
       "      <td>0.002661</td>\n",
       "      <td>0.021967</td>\n",
       "      <td>0.069111</td>\n",
       "      <td>0.125905</td>\n",
       "      <td>0.009793</td>\n",
       "    </tr>\n",
       "    <tr>\n",
       "      <th>temp</th>\n",
       "      <td>0.419641</td>\n",
       "      <td>0.427011</td>\n",
       "      <td>0.467701</td>\n",
       "      <td>0.500623</td>\n",
       "      <td>0.392255</td>\n",
       "      <td>1.000000</td>\n",
       "      <td>0.507671</td>\n",
       "      <td>0.216221</td>\n",
       "      <td>0.069782</td>\n",
       "      <td>0.145573</td>\n",
       "      <td>0.033772</td>\n",
       "      <td>0.005675</td>\n",
       "      <td>0.051227</td>\n",
       "      <td>0.037087</td>\n",
       "      <td>0.094063</td>\n",
       "      <td>0.048333</td>\n",
       "    </tr>\n",
       "    <tr>\n",
       "      <th>RH</th>\n",
       "      <td>0.076650</td>\n",
       "      <td>0.305826</td>\n",
       "      <td>0.085073</td>\n",
       "      <td>0.047074</td>\n",
       "      <td>0.131033</td>\n",
       "      <td>0.507671</td>\n",
       "      <td>1.000000</td>\n",
       "      <td>0.061870</td>\n",
       "      <td>0.102162</td>\n",
       "      <td>0.015763</td>\n",
       "      <td>0.039929</td>\n",
       "      <td>0.136566</td>\n",
       "      <td>0.120909</td>\n",
       "      <td>0.010018</td>\n",
       "      <td>0.067824</td>\n",
       "      <td>0.043613</td>\n",
       "    </tr>\n",
       "    <tr>\n",
       "      <th>wind</th>\n",
       "      <td>0.019259</td>\n",
       "      <td>0.015168</td>\n",
       "      <td>0.100278</td>\n",
       "      <td>0.199064</td>\n",
       "      <td>0.107663</td>\n",
       "      <td>0.216221</td>\n",
       "      <td>0.061870</td>\n",
       "      <td>1.000000</td>\n",
       "      <td>0.061735</td>\n",
       "      <td>0.072275</td>\n",
       "      <td>0.059395</td>\n",
       "      <td>0.032628</td>\n",
       "      <td>0.045593</td>\n",
       "      <td>0.043152</td>\n",
       "      <td>0.019056</td>\n",
       "      <td>0.062179</td>\n",
       "    </tr>\n",
       "    <tr>\n",
       "      <th>rain</th>\n",
       "      <td>0.078261</td>\n",
       "      <td>0.056774</td>\n",
       "      <td>0.075473</td>\n",
       "      <td>0.037378</td>\n",
       "      <td>0.067796</td>\n",
       "      <td>0.069782</td>\n",
       "      <td>0.102162</td>\n",
       "      <td>0.061735</td>\n",
       "      <td>1.000000</td>\n",
       "      <td>0.029945</td>\n",
       "      <td>0.032271</td>\n",
       "      <td>0.017872</td>\n",
       "      <td>0.026798</td>\n",
       "      <td>0.139311</td>\n",
       "      <td>0.020744</td>\n",
       "      <td>0.023311</td>\n",
       "    </tr>\n",
       "    <tr>\n",
       "      <th>mon</th>\n",
       "      <td>0.125990</td>\n",
       "      <td>0.056237</td>\n",
       "      <td>0.117232</td>\n",
       "      <td>0.055911</td>\n",
       "      <td>0.158184</td>\n",
       "      <td>0.145573</td>\n",
       "      <td>0.015763</td>\n",
       "      <td>0.072275</td>\n",
       "      <td>0.029945</td>\n",
       "      <td>1.000000</td>\n",
       "      <td>0.180015</td>\n",
       "      <td>0.193919</td>\n",
       "      <td>0.149485</td>\n",
       "      <td>0.153623</td>\n",
       "      <td>0.139579</td>\n",
       "      <td>0.006160</td>\n",
       "    </tr>\n",
       "    <tr>\n",
       "      <th>sat</th>\n",
       "      <td>0.012047</td>\n",
       "      <td>0.019375</td>\n",
       "      <td>0.002377</td>\n",
       "      <td>0.044676</td>\n",
       "      <td>0.038064</td>\n",
       "      <td>0.033772</td>\n",
       "      <td>0.039929</td>\n",
       "      <td>0.059395</td>\n",
       "      <td>0.032271</td>\n",
       "      <td>0.180015</td>\n",
       "      <td>1.000000</td>\n",
       "      <td>0.208978</td>\n",
       "      <td>0.161094</td>\n",
       "      <td>0.165553</td>\n",
       "      <td>0.150419</td>\n",
       "      <td>0.036372</td>\n",
       "    </tr>\n",
       "    <tr>\n",
       "      <th>sun</th>\n",
       "      <td>0.062090</td>\n",
       "      <td>0.089677</td>\n",
       "      <td>0.028175</td>\n",
       "      <td>0.011418</td>\n",
       "      <td>0.002661</td>\n",
       "      <td>0.005675</td>\n",
       "      <td>0.136566</td>\n",
       "      <td>0.032628</td>\n",
       "      <td>0.017872</td>\n",
       "      <td>0.193919</td>\n",
       "      <td>0.208978</td>\n",
       "      <td>1.000000</td>\n",
       "      <td>0.173535</td>\n",
       "      <td>0.178339</td>\n",
       "      <td>0.162036</td>\n",
       "      <td>0.004438</td>\n",
       "    </tr>\n",
       "    <tr>\n",
       "      <th>thu</th>\n",
       "      <td>0.042282</td>\n",
       "      <td>0.069656</td>\n",
       "      <td>0.090051</td>\n",
       "      <td>0.048853</td>\n",
       "      <td>0.021967</td>\n",
       "      <td>0.051227</td>\n",
       "      <td>0.120909</td>\n",
       "      <td>0.045593</td>\n",
       "      <td>0.026798</td>\n",
       "      <td>0.149485</td>\n",
       "      <td>0.161094</td>\n",
       "      <td>0.173535</td>\n",
       "      <td>1.000000</td>\n",
       "      <td>0.137475</td>\n",
       "      <td>0.124908</td>\n",
       "      <td>0.022189</td>\n",
       "    </tr>\n",
       "    <tr>\n",
       "      <th>tue</th>\n",
       "      <td>0.060867</td>\n",
       "      <td>0.010301</td>\n",
       "      <td>0.001951</td>\n",
       "      <td>0.027314</td>\n",
       "      <td>0.069111</td>\n",
       "      <td>0.037087</td>\n",
       "      <td>0.010018</td>\n",
       "      <td>0.043152</td>\n",
       "      <td>0.139311</td>\n",
       "      <td>0.153623</td>\n",
       "      <td>0.165553</td>\n",
       "      <td>0.178339</td>\n",
       "      <td>0.137475</td>\n",
       "      <td>1.000000</td>\n",
       "      <td>0.128365</td>\n",
       "      <td>0.032202</td>\n",
       "    </tr>\n",
       "    <tr>\n",
       "      <th>wed</th>\n",
       "      <td>0.084696</td>\n",
       "      <td>0.094608</td>\n",
       "      <td>0.018827</td>\n",
       "      <td>0.027794</td>\n",
       "      <td>0.125905</td>\n",
       "      <td>0.094063</td>\n",
       "      <td>0.067824</td>\n",
       "      <td>0.019056</td>\n",
       "      <td>0.020744</td>\n",
       "      <td>0.139579</td>\n",
       "      <td>0.150419</td>\n",
       "      <td>0.162036</td>\n",
       "      <td>0.124908</td>\n",
       "      <td>0.128365</td>\n",
       "      <td>1.000000</td>\n",
       "      <td>0.000645</td>\n",
       "    </tr>\n",
       "    <tr>\n",
       "      <th>log_area</th>\n",
       "      <td>0.048816</td>\n",
       "      <td>0.046767</td>\n",
       "      <td>0.062982</td>\n",
       "      <td>0.064287</td>\n",
       "      <td>0.009793</td>\n",
       "      <td>0.048333</td>\n",
       "      <td>0.043613</td>\n",
       "      <td>0.062179</td>\n",
       "      <td>0.023311</td>\n",
       "      <td>0.006160</td>\n",
       "      <td>0.036372</td>\n",
       "      <td>0.004438</td>\n",
       "      <td>0.022189</td>\n",
       "      <td>0.032202</td>\n",
       "      <td>0.000645</td>\n",
       "      <td>1.000000</td>\n",
       "    </tr>\n",
       "  </tbody>\n",
       "</table>\n",
       "</div>"
      ],
      "text/plain": [
       "            summer      FFMC       DMC        DC       ISI      temp  \\\n",
       "summer    1.000000  0.214177  0.457106  0.159856  0.370985  0.419641   \n",
       "FFMC      0.214177  1.000000  0.377944  0.343971  0.527148  0.427011   \n",
       "DMC       0.457106  0.377944  1.000000  0.675980  0.304136  0.467701   \n",
       "DC        0.159856  0.343971  0.675980  1.000000  0.236874  0.500623   \n",
       "ISI       0.370985  0.527148  0.304136  0.236874  1.000000  0.392255   \n",
       "temp      0.419641  0.427011  0.467701  0.500623  0.392255  1.000000   \n",
       "RH        0.076650  0.305826  0.085073  0.047074  0.131033  0.507671   \n",
       "wind      0.019259  0.015168  0.100278  0.199064  0.107663  0.216221   \n",
       "rain      0.078261  0.056774  0.075473  0.037378  0.067796  0.069782   \n",
       "mon       0.125990  0.056237  0.117232  0.055911  0.158184  0.145573   \n",
       "sat       0.012047  0.019375  0.002377  0.044676  0.038064  0.033772   \n",
       "sun       0.062090  0.089677  0.028175  0.011418  0.002661  0.005675   \n",
       "thu       0.042282  0.069656  0.090051  0.048853  0.021967  0.051227   \n",
       "tue       0.060867  0.010301  0.001951  0.027314  0.069111  0.037087   \n",
       "wed       0.084696  0.094608  0.018827  0.027794  0.125905  0.094063   \n",
       "log_area  0.048816  0.046767  0.062982  0.064287  0.009793  0.048333   \n",
       "\n",
       "                RH      wind      rain       mon       sat       sun  \\\n",
       "summer    0.076650  0.019259  0.078261  0.125990  0.012047  0.062090   \n",
       "FFMC      0.305826  0.015168  0.056774  0.056237  0.019375  0.089677   \n",
       "DMC       0.085073  0.100278  0.075473  0.117232  0.002377  0.028175   \n",
       "DC        0.047074  0.199064  0.037378  0.055911  0.044676  0.011418   \n",
       "ISI       0.131033  0.107663  0.067796  0.158184  0.038064  0.002661   \n",
       "temp      0.507671  0.216221  0.069782  0.145573  0.033772  0.005675   \n",
       "RH        1.000000  0.061870  0.102162  0.015763  0.039929  0.136566   \n",
       "wind      0.061870  1.000000  0.061735  0.072275  0.059395  0.032628   \n",
       "rain      0.102162  0.061735  1.000000  0.029945  0.032271  0.017872   \n",
       "mon       0.015763  0.072275  0.029945  1.000000  0.180015  0.193919   \n",
       "sat       0.039929  0.059395  0.032271  0.180015  1.000000  0.208978   \n",
       "sun       0.136566  0.032628  0.017872  0.193919  0.208978  1.000000   \n",
       "thu       0.120909  0.045593  0.026798  0.149485  0.161094  0.173535   \n",
       "tue       0.010018  0.043152  0.139311  0.153623  0.165553  0.178339   \n",
       "wed       0.067824  0.019056  0.020744  0.139579  0.150419  0.162036   \n",
       "log_area  0.043613  0.062179  0.023311  0.006160  0.036372  0.004438   \n",
       "\n",
       "               thu       tue       wed  log_area  \n",
       "summer    0.042282  0.060867  0.084696  0.048816  \n",
       "FFMC      0.069656  0.010301  0.094608  0.046767  \n",
       "DMC       0.090051  0.001951  0.018827  0.062982  \n",
       "DC        0.048853  0.027314  0.027794  0.064287  \n",
       "ISI       0.021967  0.069111  0.125905  0.009793  \n",
       "temp      0.051227  0.037087  0.094063  0.048333  \n",
       "RH        0.120909  0.010018  0.067824  0.043613  \n",
       "wind      0.045593  0.043152  0.019056  0.062179  \n",
       "rain      0.026798  0.139311  0.020744  0.023311  \n",
       "mon       0.149485  0.153623  0.139579  0.006160  \n",
       "sat       0.161094  0.165553  0.150419  0.036372  \n",
       "sun       0.173535  0.178339  0.162036  0.004438  \n",
       "thu       1.000000  0.137475  0.124908  0.022189  \n",
       "tue       0.137475  1.000000  0.128365  0.032202  \n",
       "wed       0.124908  0.128365  1.000000  0.000645  \n",
       "log_area  0.022189  0.032202  0.000645  1.000000  "
      ]
     },
     "execution_count": 15,
     "metadata": {},
     "output_type": "execute_result"
    }
   ],
   "source": [
    "y = fires['log_area']\n",
    "final_and_y = pd.concat([final, y], axis=1)\n",
    "corr = abs(final_and_y.corr())\n",
    "corr"
   ]
  },
  {
   "cell_type": "code",
   "execution_count": 16,
   "metadata": {},
   "outputs": [
    {
     "data": {
      "text/plain": [
       "<Axes: >"
      ]
     },
     "execution_count": 16,
     "metadata": {},
     "output_type": "execute_result"
    },
    {
     "data": {
      "image/png": "[encoded data removed]",
      "text/plain": [
       "<Figure size 640x480 with 2 Axes>"
      ]
     },
     "metadata": {},
     "output_type": "display_data"
    }
   ],
   "source": [
    "import seaborn as sns\n",
    "sns.heatmap(corr)"
   ]
  },
  {
   "cell_type": "markdown",
   "metadata": {},
   "source": [
    "'log_area' has very little correlation with all the columns. So for feature selection we will try SequentialFeatureSelector"
   ]
  },
  {
   "cell_type": "code",
   "execution_count": 17,
   "metadata": {},
   "outputs": [
    {
     "name": "stdout",
     "output_type": "stream",
     "text": [
      "Features selected in 2 feature model: ['FFMC' 'DC']\n",
      "Features selected in 4 feature model: ['FFMC' 'DC' 'wind' 'tue']\n",
      "Features selected in 6 feature model: ['FFMC' 'DC' 'wind' 'sat' 'sun' 'tue']\n"
     ]
    }
   ],
   "source": [
    "from sklearn.feature_selection import SequentialFeatureSelector\n",
    "\n",
    "model1 = LinearRegression()\n",
    "model2 = LinearRegression()\n",
    "model3 = LinearRegression()\n",
    "\n",
    "forward_2 = SequentialFeatureSelector(estimator = model1,\n",
    "                                      direction='forward',\n",
    "                                      n_features_to_select=2)\n",
    "forward_4 = SequentialFeatureSelector(estimator = model2,\n",
    "                                      direction='forward',\n",
    "                                      n_features_to_select=4)\n",
    "forward_6 = SequentialFeatureSelector(estimator = model3,\n",
    "                                      direction='forward',\n",
    "                                      n_features_to_select=6)\n",
    "\n",
    "forward_2.fit(final, y)\n",
    "forward_4.fit(final, y)\n",
    "forward_6.fit(final, y)\n",
    "\n",
    "print(f\"Features selected in 2 feature model:\", forward_2.get_feature_names_out())\n",
    "print(f\"Features selected in 4 feature model:\", forward_4.get_feature_names_out())\n",
    "print(f\"Features selected in 6 feature model:\", forward_6.get_feature_names_out())"
   ]
  },
  {
   "cell_type": "code",
   "execution_count": 18,
   "metadata": {},
   "outputs": [
    {
     "name": "stdout",
     "output_type": "stream",
     "text": [
      "Features selected in 2 feature model: ['FFMC' 'tue']\n",
      "Features selected in 4 feature model: ['FFMC' 'sat' 'sun' 'tue']\n",
      "Features selected in 6 feature model: ['FFMC' 'DC' 'wind' 'sat' 'sun' 'tue']\n"
     ]
    }
   ],
   "source": [
    "backward_2 = SequentialFeatureSelector(estimator = model1,\n",
    "                                      direction='backward',\n",
    "                                      n_features_to_select=2)\n",
    "backward_4 = SequentialFeatureSelector(estimator = model2,\n",
    "                                      direction='backward',\n",
    "                                      n_features_to_select=4)\n",
    "backward_6 = SequentialFeatureSelector(estimator = model3,\n",
    "                                      direction='backward',\n",
    "                                      n_features_to_select=6)\n",
    "\n",
    "backward_2.fit(final, y)\n",
    "backward_4.fit(final, y)\n",
    "backward_6.fit(final, y)\n",
    "\n",
    "print(f\"Features selected in 2 feature model:\", backward_2.get_feature_names_out())\n",
    "print(f\"Features selected in 4 feature model:\", backward_4.get_feature_names_out())\n",
    "print(f\"Features selected in 6 feature model:\", backward_6.get_feature_names_out())"
   ]
  },
  {
   "cell_type": "markdown",
   "metadata": {},
   "source": [
    "So, according to feature selection, the best features are \"FFMC\", \"DC\", \"tue\" and \"wind\""
   ]
  },
  {
   "cell_type": "code",
   "execution_count": 19,
   "metadata": {},
   "outputs": [
    {
     "data": {
      "image/png": "[encoded data removed]",
      "text/plain": [
       "<Figure size 640x480 with 1 Axes>"
      ]
     },
     "metadata": {},
     "output_type": "display_data"
    }
   ],
   "source": [
    "plt.scatter(final['FFMC'], y)\n",
    "plt.xlabel('FFMC')\n",
    "plt.ylabel('log_area')\n",
    "plt.show()"
   ]
  },
  {
   "cell_type": "code",
   "execution_count": 20,
   "metadata": {},
   "outputs": [
    {
     "data": {
      "image/png": "[encoded data removed]",
      "text/plain": [
       "<Figure size 640x480 with 1 Axes>"
      ]
     },
     "metadata": {},
     "output_type": "display_data"
    }
   ],
   "source": [
    "plt.scatter(final['DC'], y)\n",
    "plt.xlabel('DC')\n",
    "plt.ylabel('log_area')\n",
    "plt.show()"
   ]
  },
  {
   "cell_type": "code",
   "execution_count": 21,
   "metadata": {},
   "outputs": [
    {
     "data": {
      "image/png": "[encoded data removed]",
      "text/plain": [
       "<Figure size 640x480 with 1 Axes>"
      ]
     },
     "metadata": {},
     "output_type": "display_data"
    }
   ],
   "source": [
    "plt.scatter(final['wind'], y)\n",
    "plt.xlabel('wind')\n",
    "plt.ylabel('log_area')\n",
    "plt.show()"
   ]
  },
  {
   "cell_type": "code",
   "execution_count": 22,
   "metadata": {},
   "outputs": [
    {
     "data": {
      "image/png": "[encoded data removed]",
      "text/plain": [
       "<Figure size 640x480 with 1 Axes>"
      ]
     },
     "metadata": {},
     "output_type": "display_data"
    }
   ],
   "source": [
    "plt.scatter(final['tue'], y)\n",
    "plt.xlabel('tue')\n",
    "plt.ylabel('log_area')\n",
    "plt.show()"
   ]
  },
  {
   "cell_type": "code",
   "execution_count": 23,
   "metadata": {},
   "outputs": [],
   "source": [
    "fw2_model = LinearRegression()\n",
    "fw4_model = LinearRegression()\n",
    "fw6_model = LinearRegression()\n",
    "bw2_model = LinearRegression()\n",
    "bw4_model = LinearRegression()\n",
    "bw6_model = LinearRegression()"
   ]
  },
  {
   "cell_type": "markdown",
   "metadata": {},
   "source": [
    "### Regularized Models"
   ]
  },
  {
   "cell_type": "markdown",
   "metadata": {},
   "source": [
    "We will try Lasso and Ridge models"
   ]
  },
  {
   "cell_type": "code",
   "execution_count": 24,
   "metadata": {},
   "outputs": [
    {
     "name": "stdout",
     "output_type": "stream",
     "text": [
      "Ridge tuning parameter:  2728.0\n",
      "LASSO tuning parameter:  10000.0\n",
      "Ridge coefficients:  [-7.16069204e-03  8.49322575e-03  1.23248699e-02  1.24927702e-02\n",
      " -4.78554171e-03  8.52667466e-03 -8.96780951e-03  1.48802281e-02\n",
      "  4.87482521e-03 -2.95606147e-04  3.53231604e-03  5.53301968e-04\n",
      " -2.01610680e-03  2.66362715e-03 -2.02454169e-05]\n",
      "LASSO coefficients:  [-0.  0.  0.  0. -0.  0. -0.  0.  0. -0.  0.  0. -0.  0.  0.]\n"
     ]
    }
   ],
   "source": [
    "from sklearn.linear_model import LassoCV, RidgeCV\n",
    "\n",
    "ridge = RidgeCV(alphas = np.linspace(1, 10000, num=100))\n",
    "lasso = LassoCV(alphas = np.linspace(1, 10000, num=100))\n",
    "\n",
    "ridge.fit(final, y)\n",
    "lasso.fit(final, y)\n",
    "\n",
    "print(\"Ridge tuning parameter: \", ridge.alpha_)\n",
    "print(\"LASSO tuning parameter: \", lasso.alpha_)\n",
    "\n",
    "print(\"Ridge coefficients: \", ridge.coef_)\n",
    "print(\"LASSO coefficients: \", lasso.coef_)\n"
   ]
  },
  {
   "cell_type": "markdown",
   "metadata": {},
   "source": [
    "Lasso tuning parameter is on the extreme. And coeficients are zeros. it suggests that having no features at all is better than having any. \n",
    "We´ll continue with ridge model."
   ]
  },
  {
   "cell_type": "code",
   "execution_count": 25,
   "metadata": {},
   "outputs": [
    {
     "name": "stdout",
     "output_type": "stream",
     "text": [
      "Ridge tuning parameter:  2760.7607607607606\n",
      "Ridge coefficients:  [-7.07166230e-03  8.42233283e-03  1.22131512e-02  1.23811754e-02\n",
      " -4.71564693e-03  8.45800604e-03 -8.88312186e-03  1.47220252e-02\n",
      "  4.82853195e-03 -2.94216155e-04  3.49076644e-03  5.45869916e-04\n",
      " -1.99138560e-03  2.63330380e-03 -1.97504868e-05]\n",
      "Index(['summer', 'FFMC', 'DMC', 'DC', 'ISI', 'temp', 'RH', 'wind', 'rain',\n",
      "       'mon', 'sat', 'sun', 'thu', 'tue', 'wed'],\n",
      "      dtype='object')\n"
     ]
    }
   ],
   "source": [
    "ridge = RidgeCV(alphas = np.linspace(2000, 3000, num=1000))\n",
    "ridge.fit(final, y)\n",
    "print(\"Ridge tuning parameter: \", ridge.alpha_)\n",
    "print(\"Ridge coefficients: \", ridge.coef_)\n",
    "print(final.columns)"
   ]
  },
  {
   "cell_type": "markdown",
   "metadata": {},
   "source": [
    "### K-Fold Cross-Validation"
   ]
  },
  {
   "cell_type": "markdown",
   "metadata": {},
   "source": [
    "We´ll compare different models we come to so long."
   ]
  },
  {
   "cell_type": "code",
   "execution_count": 26,
   "metadata": {},
   "outputs": [],
   "source": [
    "from sklearn.model_selection import cross_val_score\n",
    "\n",
    "reference_cv = cross_val_score(reference, final[['wind', 'temp']], y, cv=5, scoring='neg_mean_absolute_error')\n",
    "fw2_cv = cross_val_score(fw2_model, final[forward_2.get_feature_names_out()], y, cv=5, scoring='neg_mean_absolute_error')\n",
    "fw4_cv = cross_val_score(fw4_model, final[forward_4.get_feature_names_out()], y, cv=5, scoring='neg_mean_absolute_error')\n",
    "fw6_cv = cross_val_score(fw6_model, final[forward_6.get_feature_names_out()], y, cv=5, scoring='neg_mean_absolute_error')\n",
    "bw2_cv = cross_val_score(bw2_model, final[backward_2.get_feature_names_out()], y, cv=5, scoring='neg_mean_absolute_error')\n",
    "bw4_cv = cross_val_score(bw4_model, final[backward_4.get_feature_names_out()], y, cv=5, scoring='neg_mean_absolute_error')\n",
    "bw6_cv = cross_val_score(bw6_model, final[backward_6.get_feature_names_out()], y, cv=5, scoring='neg_mean_absolute_error')\n",
    "ridge_cv = cross_val_score(ridge, final, y, cv=5, scoring='neg_mean_absolute_error')                                "
   ]
  },
  {
   "cell_type": "code",
   "execution_count": 27,
   "metadata": {},
   "outputs": [
    {
     "name": "stdout",
     "output_type": "stream",
     "text": [
      "Reference Model, Avg Test MSE:  -1.2284558766874276  SD:  0.2674337504305044\n",
      "Forward-2 Model, Avg Test MSE:  -1.2215074601880649  SD:  0.2582089871381893\n",
      "Forward-4 Model, Avg Test MSE:  -1.2204341036194635  SD:  0.2539836896563248\n",
      "Forward-6 Model, Avg Test MSE:  -1.2245029937217142  SD:  0.2557789855233015\n",
      "Backward-2 Model, Avg Test MSE:  -1.2217921640206133  SD:  0.25831370311882235\n",
      "Backward-4 Model, Avg Test MSE:  -1.2249929003706277  SD:  0.2600315783713315\n",
      "Backward-6 Model, Avg Test MSE:  -1.2245029937217142  SD:  0.2557789855233015\n",
      "Ridge Model, Avg Test MSE:  -1.2255042526941538  SD:  0.2629426695905425\n"
     ]
    }
   ],
   "source": [
    "print(\"Reference Model, Avg Test MSE: \", np.mean(reference_cv), \" SD: \", np.std(reference_cv))\n",
    "print(\"Forward-2 Model, Avg Test MSE: \", np.mean(fw2_cv), \" SD: \", np.std(fw2_cv))\n",
    "print(\"Forward-4 Model, Avg Test MSE: \", np.mean(fw4_cv), \" SD: \", np.std(fw4_cv))\n",
    "print(\"Forward-6 Model, Avg Test MSE: \", np.mean(fw6_cv), \" SD: \", np.std(fw6_cv))\n",
    "print(\"Backward-2 Model, Avg Test MSE: \", np.mean(bw2_cv), \" SD: \", np.std(bw2_cv))\n",
    "print(\"Backward-4 Model, Avg Test MSE: \", np.mean(bw4_cv), \" SD: \", np.std(bw4_cv))\n",
    "print(\"Backward-6 Model, Avg Test MSE: \", np.mean(bw6_cv), \" SD: \", np.std(bw6_cv))\n",
    "print(\"Ridge Model, Avg Test MSE: \", np.mean(ridge_cv), \" SD: \", np.std(ridge_cv))"
   ]
  },
  {
   "cell_type": "markdown",
   "metadata": {},
   "source": [
    "Forward selection model with 4 features is the best model, although none of the models performs well. Besides, we should remember that we use log-scale, so the predictions are off by a magnitude of about 2."
   ]
  },
  {
   "cell_type": "code",
   "execution_count": 28,
   "metadata": {},
   "outputs": [],
   "source": [
    "fw4_model.fit(final[forward_4.get_feature_names_out()], y)\n",
    "y_predict = fw4_model.predict(final[forward_4.get_feature_names_out()])\n",
    "y_predict = pd.Series(y_predict, name='predicted log_area')"
   ]
  },
  {
   "cell_type": "code",
   "execution_count": 29,
   "metadata": {},
   "outputs": [
    {
     "data": {
      "image/png": "[encoded data removed]",
      "text/plain": [
       "<Figure size 640x480 with 1 Axes>"
      ]
     },
     "metadata": {},
     "output_type": "display_data"
    }
   ],
   "source": [
    "y.plot()\n",
    "y_predict.plot()\n",
    "plt.legend()\n",
    "plt.show()"
   ]
  },
  {
   "cell_type": "code",
   "execution_count": 30,
   "metadata": {},
   "outputs": [],
   "source": [
    "y_without_log = np.exp(y)-1\n",
    "y_without_log.name = 'area'\n",
    "prediction_without_log = np.exp(y_predict)-1\n",
    "prediction_without_log.name = 'predicted area'"
   ]
  },
  {
   "cell_type": "code",
   "execution_count": 31,
   "metadata": {},
   "outputs": [
    {
     "data": {
      "image/png": "[encoded data removed]",
      "text/plain": [
       "<Figure size 640x480 with 1 Axes>"
      ]
     },
     "metadata": {},
     "output_type": "display_data"
    }
   ],
   "source": [
    "y_without_log.plot()\n",
    "prediction_without_log.plot()\n",
    "plt.legend()\n",
    "plt.show()"
   ]
  },
  {
   "cell_type": "code",
   "execution_count": 32,
   "metadata": {},
   "outputs": [
    {
     "data": {
      "image/png": "[encoded data removed]",
      "text/plain": [
       "<Figure size 640x480 with 1 Axes>"
      ]
     },
     "metadata": {},
     "output_type": "display_data"
    }
   ],
   "source": [
    "residuals = y - y_predict\n",
    "plt.scatter(y_predict, residuals)\n",
    "plt.show()"
   ]
  },
  {
   "cell_type": "markdown",
   "metadata": {},
   "source": [
    "It´s a pity to say that our model predict very poorly. But seems that the problem here lies in the data available."
   ]
  },
  {
   "cell_type": "code",
   "execution_count": null,
   "metadata": {},
   "outputs": [],
   "source": []
  }
 ],
 "metadata": {
  "kernelspec": {
   "display_name": "Python 3 (ipykernel)",
   "language": "python",
   "name": "python3"
  },
  "language_info": {
   "codemirror_mode": {
    "name": "ipython",
    "version": 3
   },
   "file_extension": ".py",
   "mimetype": "text/x-python",
   "name": "python",
   "nbconvert_exporter": "python",
   "pygments_lexer": "ipython3",
   "version": "3.10.9"
  }
 },
 "nbformat": 4,
 "nbformat_minor": 4
}
